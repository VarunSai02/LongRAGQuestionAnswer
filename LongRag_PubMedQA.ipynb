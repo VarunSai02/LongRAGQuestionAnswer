{
 "cells": [
  {
   "cell_type": "code",
   "execution_count": 17,
   "id": "6dedbe1f-563f-4cea-8731-753c422ab82c",
   "metadata": {},
   "outputs": [],
   "source": [
    "# Import required libraries\n",
    "import numpy as np\n",
    "import pandas as pd\n",
    "import torch\n",
    "from datasets import load_dataset\n",
    "from sentence_transformers import SentenceTransformer\n",
    "from transformers import AutoTokenizer, AutoModelForSeq2SeqLM, AutoModelForSequenceClassification\n",
    "import faiss\n",
    "from tqdm.notebook import tqdm\n",
    "import matplotlib.pyplot as plt\n",
    "import seaborn as sns"
   ]
  },
  {
   "cell_type": "markdown",
   "id": "b604be25-9031-4690-a1fb-7448eac9b897",
   "metadata": {},
   "source": [
    "# Data Loading and Preprocessing"
   ]
  },
  {
   "cell_type": "code",
   "execution_count": 18,
   "id": "988eb73a-433e-4284-9e2b-82f87783d574",
   "metadata": {},
   "outputs": [
    {
     "name": "stdout",
     "output_type": "stream",
     "text": [
      "Loading PubMedQA dataset...\n",
      "Dataset size: 1000\n",
      "\n",
      "Sample data:\n",
      "                                            question  \\\n",
      "0  Do mitochondria play a role in remodelling lac...   \n",
      "1  Landolt C and snellen e acuity: differences in...   \n",
      "\n",
      "                                             context answer  \n",
      "0  Programmed cell death (PCD) is the regulated d...    yes  \n",
      "1  Assessment of visual acuity depends on the opt...     no  \n"
     ]
    }
   ],
   "source": [
    "print(\"Loading PubMedQA dataset...\")\n",
    "pubmedqa = load_dataset(\"pubmed_qa\", \"pqa_labeled\", split=\"train\")\n",
    "\n",
    "# Convert to DataFrame for easier handling\n",
    "df = pd.DataFrame({\n",
    "    \"question\": pubmedqa[\"question\"],\n",
    "    \"context\": [' '.join(list(ctx.values())[0]) for ctx in pubmedqa[\"context\"]],\n",
    "    \"answer\": pubmedqa[\"final_decision\"]\n",
    "})\n",
    "\n",
    "print(f\"Dataset size: {len(df)}\")\n",
    "print(\"\\nSample data:\")\n",
    "print(df.head(2))"
   ]
  },
  {
   "cell_type": "markdown",
   "id": "d79a1774-a089-4358-b952-37300c4e8cc8",
   "metadata": {},
   "source": [
    "# Document Processing following LongRAG paper"
   ]
  },
  {
   "cell_type": "code",
   "execution_count": 19,
   "id": "45c4c150-2bd7-4fb2-8bf9-9c5cdd5c86c5",
   "metadata": {},
   "outputs": [],
   "source": [
    "def create_document_chunks(text, chunk_size=200, overlap=50):\n",
    "    \"\"\"\n",
    "    Create overlapping chunks from document following LongRAG's local view approach\n",
    "    \n",
    "    Key concepts from paper:\n",
    "    1. Overlapping chunks to maintain context\n",
    "    2. Both short and long chunks for different granularity\n",
    "    \"\"\"\n",
    "    words = text.split()\n",
    "    chunks = []\n",
    "    # Short chunks for detailed local view\n",
    "    for i in range(0, len(words), chunk_size - overlap):\n",
    "        chunk = ' '.join(words[i:i + chunk_size])\n",
    "        chunks.append(chunk)\n",
    "    \n",
    "    # Add longer chunks for broader context\n",
    "    if len(words) > chunk_size * 2:\n",
    "        longer_chunks = [\n",
    "            ' '.join(words[:chunk_size * 2]),  # Start\n",
    "            ' '.join(words[len(words)//2 - chunk_size:len(words)//2 + chunk_size]),  # Middle\n",
    "            ' '.join(words[-chunk_size * 2:])  # End\n",
    "        ]\n",
    "        chunks.extend(longer_chunks)\n",
    "    \n",
    "    return chunks\n",
    "\n",
    "def get_global_context(text, max_length=1000):\n",
    "    \"\"\"\n",
    "    Extract global context following LongRAG's global view\n",
    "    Includes document summary and key sections\n",
    "    \"\"\"\n",
    "    words = text.split()\n",
    "    # Take beginning and end of document for global context\n",
    "    start_text = ' '.join(words[:max_length//2])\n",
    "    end_text = ' '.join(words[-max_length//2:])\n",
    "    return f\"{start_text}... {end_text}\""
   ]
  },
  {
   "cell_type": "markdown",
   "id": "443eef70-78de-4f99-971e-656bfe647c28",
   "metadata": {},
   "source": [
    "# Model Initialization and Embedding Creation"
   ]
  },
  {
   "cell_type": "code",
   "execution_count": 20,
   "id": "20d84ddd-3252-40b3-990a-c1d5d5dc1483",
   "metadata": {},
   "outputs": [
    {
     "name": "stdout",
     "output_type": "stream",
     "text": [
      "Creating document embeddings...\n"
     ]
    },
    {
     "data": {
      "application/vnd.jupyter.widget-view+json": {
       "model_id": "fd0580d7492f40a49ce136f0f65d6173",
       "version_major": 2,
       "version_minor": 0
      },
      "text/plain": [
       "  0%|          | 0/1000 [00:00<?, ?it/s]"
      ]
     },
     "metadata": {},
     "output_type": "display_data"
    },
    {
     "data": {
      "application/vnd.jupyter.widget-view+json": {
       "model_id": "dc51b232e4024898b0679e5b2ffcc597",
       "version_major": 2,
       "version_minor": 0
      },
      "text/plain": [
       "Batches:   0%|          | 0/59 [00:00<?, ?it/s]"
      ]
     },
     "metadata": {},
     "output_type": "display_data"
    },
    {
     "data": {
      "application/vnd.jupyter.widget-view+json": {
       "model_id": "41060fa894ab41ffaedd39a0ac969ec1",
       "version_major": 2,
       "version_minor": 0
      },
      "text/plain": [
       "Batches:   0%|          | 0/32 [00:00<?, ?it/s]"
      ]
     },
     "metadata": {},
     "output_type": "display_data"
    }
   ],
   "source": [
    "\n",
    "\n",
    "# Initialize models\n",
    "embedding_model = SentenceTransformer('sentence-transformers/all-mpnet-base-v2')\n",
    "tokenizer = AutoTokenizer.from_pretrained(\"google/flan-t5-base\")\n",
    "model = AutoModelForSeq2SeqLM.from_pretrained(\"google/flan-t5-base\")\n",
    "\n",
    "# Process documents and create embeddings\n",
    "print(\"Creating document embeddings...\")\n",
    "all_chunks = []\n",
    "global_contexts = []\n",
    "chunk_to_doc_idx = []\n",
    "\n",
    "for idx, row in tqdm(df.iterrows(), total=len(df)):\n",
    "    # Create local chunks\n",
    "    chunks = create_document_chunks(row['context'])\n",
    "    all_chunks.extend(chunks)\n",
    "    chunk_to_doc_idx.extend([idx] * len(chunks))\n",
    "    \n",
    "    # Create global context\n",
    "    global_context = get_global_context(row['context'])\n",
    "    global_contexts.append(global_context)\n",
    "\n",
    "# Create embeddings for both views\n",
    "local_embeddings = embedding_model.encode(all_chunks, show_progress_bar=True)\n",
    "global_embeddings = embedding_model.encode(global_contexts, show_progress_bar=True)\n",
    "\n",
    "# Create FAISS indices\n",
    "dimension = local_embeddings.shape[1]\n",
    "local_index = faiss.IndexFlatIP(dimension)\n",
    "global_index = faiss.IndexFlatIP(dimension)\n",
    "\n",
    "local_index.add(local_embeddings)\n",
    "global_index.add(global_embeddings)"
   ]
  },
  {
   "cell_type": "markdown",
   "id": "d989123c-fb49-4de0-974b-928039c4481b",
   "metadata": {},
   "source": [
    "# Core LongRAG Implementation"
   ]
  },
  {
   "cell_type": "code",
   "execution_count": 21,
   "id": "271f8216-59c5-4eba-90f4-be23f6593db5",
   "metadata": {},
   "outputs": [],
   "source": [
    "\n",
    "def retrieve_dual_perspective(question, top_k_global=3, top_k_local=5):\n",
    "    \"\"\"\n",
    "    LongRAG's dual-perspective retrieval:\n",
    "    1. Global view: Retrieve relevant documents\n",
    "    2. Local view: Retrieve specific passages\n",
    "    \"\"\"\n",
    "    question_embedding = embedding_model.encode([question])\n",
    "    \n",
    "    # Global retrieval\n",
    "    _, global_indices = global_index.search(question_embedding, top_k_global)\n",
    "    global_contexts_retrieved = [global_contexts[idx] for idx in global_indices[0]]\n",
    "    \n",
    "    # Local retrieval\n",
    "    _, local_indices = local_index.search(question_embedding, top_k_local)\n",
    "    local_chunks_retrieved = [all_chunks[idx] for idx in local_indices[0]]\n",
    "    \n",
    "    return global_contexts_retrieved, local_chunks_retrieved\n",
    "\n",
    "def generate_answer_two_phase(question, local_chunks, global_context):\n",
    "    \"\"\"\n",
    "    LongRAG's two-phase generation:\n",
    "    1. Initial answer using local chunks\n",
    "    2. Refinement using global context\n",
    "    \"\"\"\n",
    "    # Phase 1: Generate from local chunks\n",
    "    local_prompt = f\"\"\"Based on these specific passages, answer with 'yes', 'no', or 'maybe':\n",
    "    \n",
    "Passages: {' '.join(local_chunks[:3])}\n",
    "\n",
    "Question: {question}\n",
    "Initial answer:\"\"\"\n",
    "    \n",
    "    inputs = tokenizer(local_prompt, return_tensors=\"pt\", max_length=1024, truncation=True)\n",
    "    initial_outputs = model.generate(inputs.input_ids, max_length=50)\n",
    "    initial_answer = tokenizer.decode(initial_outputs[0], skip_special_tokens=True)\n",
    "    \n",
    "    # Phase 2: Refine with global context\n",
    "    refine_prompt = f\"\"\"Given the broader context, refine the previous answer.\n",
    "\n",
    "Global context: {global_context}\n",
    "\n",
    "Question: {question}\n",
    "Initial answer: {initial_answer}\n",
    "\n",
    "Final answer (yes/no/maybe):\"\"\"\n",
    "    \n",
    "    inputs = tokenizer(refine_prompt, return_tensors=\"pt\", max_length=1024, truncation=True)\n",
    "    final_outputs = model.generate(inputs.input_ids, max_length=50)\n",
    "    final_answer = tokenizer.decode(final_outputs[0], skip_special_tokens=True).lower()\n",
    "    \n",
    "    # Clean final answer\n",
    "    if 'yes' in final_answer:\n",
    "        return 'yes'\n",
    "    elif 'no' in final_answer:\n",
    "        return 'no'\n",
    "    else:\n",
    "        return 'maybe'"
   ]
  },
  {
   "cell_type": "markdown",
   "id": "b8568bf7-72db-474a-b68a-965cf1f5162d",
   "metadata": {},
   "source": [
    "# Complete Pipeline"
   ]
  },
  {
   "cell_type": "code",
   "execution_count": 22,
   "id": "ead8b86d-797b-4900-a172-051566bc107b",
   "metadata": {},
   "outputs": [
    {
     "name": "stdout",
     "output_type": "stream",
     "text": [
      "Running evaluation...\n"
     ]
    },
    {
     "data": {
      "application/vnd.jupyter.widget-view+json": {
       "model_id": "5d9a03ee4a414103a80e42f26a57a2cc",
       "version_major": 2,
       "version_minor": 0
      },
      "text/plain": [
       "  0%|          | 0/20 [00:00<?, ?it/s]"
      ]
     },
     "metadata": {},
     "output_type": "display_data"
    },
    {
     "name": "stdout",
     "output_type": "stream",
     "text": [
      "\n",
      "Evaluation Results:\n",
      "Accuracy: 0.55\n",
      "Answer Consistency: 1.00\n"
     ]
    }
   ],
   "source": [
    "def process_query(question):\n",
    "    \"\"\"Complete LongRAG pipeline\"\"\"\n",
    "    # 1. Dual-perspective retrieval\n",
    "    global_contexts, local_chunks = retrieve_dual_perspective(question)\n",
    "    \n",
    "    # 2. Two-phase answer generation\n",
    "    final_answer = generate_answer_two_phase(question, local_chunks, global_contexts[0])\n",
    "    \n",
    "    return final_answer\n",
    "\n",
    "# Evaluation function\n",
    "def evaluate_model(num_samples=100):\n",
    "    \"\"\"\n",
    "    Evaluate model with multiple metrics from the paper:\n",
    "    1. Accuracy\n",
    "    2. Retrieval precision\n",
    "    3. Answer consistency\n",
    "    \"\"\"\n",
    "    results = {\n",
    "        'accuracy': [],\n",
    "        'consistency': []\n",
    "    }\n",
    "    \n",
    "    test_set = df.head(num_samples)\n",
    "    for _, row in tqdm(test_set.iterrows(), total=len(test_set)):\n",
    "        try:\n",
    "            # Get multiple predictions to check consistency\n",
    "            predictions = []\n",
    "            for _ in range(3):\n",
    "                pred = process_query(row['question'])\n",
    "                predictions.append(pred)\n",
    "            \n",
    "            # Calculate metrics\n",
    "            main_prediction = max(set(predictions), key=predictions.count)\n",
    "            accuracy = int(main_prediction == row['answer'])\n",
    "            consistency = len(set(predictions)) == 1\n",
    "            \n",
    "            results['accuracy'].append(accuracy)\n",
    "            results['consistency'].append(consistency)\n",
    "            \n",
    "        except Exception as e:\n",
    "            print(f\"Error: {str(e)}\")\n",
    "            continue\n",
    "    \n",
    "    return {\n",
    "        'final_accuracy': np.mean(results['accuracy']),\n",
    "        'consistency': np.mean(results['consistency'])\n",
    "    }\n",
    "\n",
    "# Run evaluation\n",
    "print(\"Running evaluation...\")\n",
    "eval_results = evaluate_model(num_samples=20)\n",
    "print(\"\\nEvaluation Results:\")\n",
    "print(f\"Accuracy: {eval_results['final_accuracy']:.2f}\")\n",
    "print(f\"Answer Consistency: {eval_results['consistency']:.2f}\")"
   ]
  },
  {
   "cell_type": "markdown",
   "id": "e8b59f50-b20f-47f4-b67f-b3ddbc39dbba",
   "metadata": {},
   "source": [
    "# Fine-tuning implementation"
   ]
  },
  {
   "cell_type": "code",
   "execution_count": 23,
   "id": "0df90273-697b-41f3-b0b0-1a567678bd52",
   "metadata": {},
   "outputs": [],
   "source": [
    "\n",
    "import torch\n",
    "from torch.utils.data import Dataset, DataLoader\n",
    "from transformers import AutoTokenizer, AutoModelForSequenceClassification, AdamW\n",
    "import matplotlib.pyplot as plt\n",
    "from tqdm import tqdm\n",
    "import gc\n",
    "import os\n",
    "\n",
    "# Custom Dataset\n",
    "class PubMedQADataset(Dataset):\n",
    "    def __init__(self, data, tokenizer, max_length=128):\n",
    "        self.data = data\n",
    "        self.tokenizer = tokenizer\n",
    "        self.max_length = max_length\n",
    "    \n",
    "    def __len__(self):\n",
    "        return len(self.data)\n",
    "    \n",
    "    def __getitem__(self, idx):\n",
    "        item = self.data[idx]\n",
    "        prompt = f\"Question: {item['question']} Context: {item['context']}\"\n",
    "        \n",
    "        encoding = self.tokenizer(\n",
    "            prompt,\n",
    "            truncation=True,\n",
    "            max_length=self.max_length,\n",
    "            padding='max_length',\n",
    "            return_tensors='pt'\n",
    "        )\n",
    "        \n",
    "        label_map = {'yes': 0, 'no': 1, 'maybe': 2}\n",
    "        label = label_map[item['answer']]\n",
    "        \n",
    "        return {\n",
    "            'input_ids': encoding['input_ids'].squeeze(),\n",
    "            'attention_mask': encoding['attention_mask'].squeeze(),\n",
    "            'labels': torch.tensor(label)\n",
    "        }\n",
    "\n",
    "def fine_tune_model(save_dir='model_checkpoints', run_num=1):\n",
    "    # Force CPU usage for stability\n",
    "    device = torch.device('cpu')\n",
    "    print(f\"Using device: {device}\")\n",
    "    \n",
    "    # Model parameters\n",
    "    MODEL_NAME = \"distilbert-base-uncased\"\n",
    "    BATCH_SIZE = 1\n",
    "    MAX_SAMPLES = 100\n",
    "    MAX_LENGTH = 128\n",
    "    NUM_EPOCHS = 2\n",
    "    \n",
    "    print(\"Initializing model and tokenizer...\")\n",
    "    tokenizer = AutoTokenizer.from_pretrained(MODEL_NAME)\n",
    "    model = AutoModelForSequenceClassification.from_pretrained(MODEL_NAME, num_labels=3)\n",
    "    model.to(device)\n",
    "    \n",
    "    # Prepare training data\n",
    "    print(\"Preparing training data...\")\n",
    "    train_data = []\n",
    "    for _, row in df.iloc[:MAX_SAMPLES].iterrows():\n",
    "        global_context = get_global_context(row['context'])[:MAX_LENGTH]\n",
    "        train_data.append({\n",
    "            'question': row['question'],\n",
    "            'context': global_context,\n",
    "            'answer': row['answer']\n",
    "        })\n",
    "    \n",
    "    # Split data\n",
    "    train_size = int(0.8 * len(train_data))\n",
    "    train_data, val_data = train_data[:train_size], train_data[train_size:]\n",
    "    \n",
    "    # Create datasets and dataloaders\n",
    "    train_dataset = PubMedQADataset(train_data, tokenizer, max_length=MAX_LENGTH)\n",
    "    val_dataset = PubMedQADataset(val_data, tokenizer, max_length=MAX_LENGTH)\n",
    "    \n",
    "    train_dataloader = DataLoader(train_dataset, batch_size=BATCH_SIZE, shuffle=True)\n",
    "    val_dataloader = DataLoader(val_dataset, batch_size=BATCH_SIZE)\n",
    "    \n",
    "    # Training settings\n",
    "    optimizer = AdamW(model.parameters(), lr=1e-5)\n",
    "    \n",
    "    # Training loop\n",
    "    print(f\"Starting fine-tuning run {run_num}...\")\n",
    "    best_accuracy = 0\n",
    "    training_stats = []\n",
    "    \n",
    "    try:\n",
    "        for epoch in range(NUM_EPOCHS):\n",
    "            print(f\"\\nEpoch {epoch+1}/{NUM_EPOCHS}\")\n",
    "            model.train()\n",
    "            total_loss = 0\n",
    "            correct = 0\n",
    "            total = 0\n",
    "            \n",
    "            # Training\n",
    "            for batch in tqdm(train_dataloader, desc=f\"Training epoch {epoch+1}\"):\n",
    "                optimizer.zero_grad()\n",
    "                \n",
    "                input_ids = batch['input_ids'].to(device)\n",
    "                attention_mask = batch['attention_mask'].to(device)\n",
    "                labels = batch['labels'].to(device)\n",
    "                \n",
    "                outputs = model(input_ids=input_ids, \n",
    "                              attention_mask=attention_mask, \n",
    "                              labels=labels)\n",
    "                \n",
    "                loss = outputs.loss\n",
    "                loss.backward()\n",
    "                optimizer.step()\n",
    "                \n",
    "                total_loss += loss.item()\n",
    "                predictions = torch.argmax(outputs.logits, dim=1)\n",
    "                correct += (predictions == labels).sum().item()\n",
    "                total += labels.size(0)\n",
    "                \n",
    "                del outputs, loss\n",
    "                gc.collect()\n",
    "            \n",
    "            train_accuracy = correct / total\n",
    "            avg_loss = total_loss / len(train_dataloader)\n",
    "            \n",
    "            # Validation\n",
    "            model.eval()\n",
    "            val_correct = 0\n",
    "            val_total = 0\n",
    "            \n",
    "            with torch.no_grad():\n",
    "                for batch in tqdm(val_dataloader, desc=\"Validating\"):\n",
    "                    input_ids = batch['input_ids'].to(device)\n",
    "                    attention_mask = batch['attention_mask'].to(device)\n",
    "                    labels = batch['labels'].to(device)\n",
    "                    \n",
    "                    outputs = model(input_ids=input_ids, attention_mask=attention_mask)\n",
    "                    predictions = torch.argmax(outputs.logits, dim=1)\n",
    "                    \n",
    "                    val_correct += (predictions == labels).sum().item()\n",
    "                    val_total += labels.size(0)\n",
    "                    \n",
    "                    del outputs\n",
    "                    gc.collect()\n",
    "            \n",
    "            val_accuracy = val_correct / val_total\n",
    "            \n",
    "            print(f\"Train Loss: {avg_loss:.4f}\")\n",
    "            print(f\"Train Accuracy: {train_accuracy:.4f}\")\n",
    "            print(f\"Validation Accuracy: {val_accuracy:.4f}\")\n",
    "            \n",
    "            training_stats.append({\n",
    "                'epoch': epoch + 1,\n",
    "                'train_loss': avg_loss,\n",
    "                'train_accuracy': train_accuracy,\n",
    "                'val_accuracy': val_accuracy\n",
    "            })\n",
    "            \n",
    "            # Save best model\n",
    "            if val_accuracy > best_accuracy:\n",
    "                best_accuracy = val_accuracy\n",
    "                torch.save(model.state_dict(), f'{save_dir}/best_model_run_{run_num}.pt')\n",
    "                print(f\"New best model saved! Accuracy: {val_accuracy:.4f}\")\n",
    "                \n",
    "    except Exception as e:\n",
    "        print(f\"Error during training: {str(e)}\")\n",
    "        torch.save(model.state_dict(), f'{save_dir}/last_checkpoint_run_{run_num}.pt')\n",
    "    \n",
    "    return training_stats\n",
    "\n",
    "\n",
    "\n"
   ]
  },
  {
   "cell_type": "code",
   "execution_count": 24,
   "id": "01a59df9-1663-467f-b54b-b86b9e5ee7d0",
   "metadata": {},
   "outputs": [
    {
     "name": "stdout",
     "output_type": "stream",
     "text": [
      "\n",
      "Starting fine-tuning run 1/3\n",
      "Using device: cpu\n",
      "Initializing model and tokenizer...\n"
     ]
    },
    {
     "name": "stderr",
     "output_type": "stream",
     "text": [
      "Some weights of DistilBertForSequenceClassification were not initialized from the model checkpoint at distilbert-base-uncased and are newly initialized: ['classifier.bias', 'classifier.weight', 'pre_classifier.bias', 'pre_classifier.weight']\n",
      "You should probably TRAIN this model on a down-stream task to be able to use it for predictions and inference.\n",
      "C:\\NLP_Final_Project\\longrag_env\\lib\\site-packages\\transformers\\optimization.py:591: FutureWarning: This implementation of AdamW is deprecated and will be removed in a future version. Use the PyTorch implementation torch.optim.AdamW instead, or set `no_deprecation_warning=True` to disable this warning\n",
      "  warnings.warn(\n"
     ]
    },
    {
     "name": "stdout",
     "output_type": "stream",
     "text": [
      "Preparing training data...\n",
      "Starting fine-tuning run 1...\n",
      "\n",
      "Epoch 1/2\n"
     ]
    },
    {
     "name": "stderr",
     "output_type": "stream",
     "text": [
      "\n",
      "\n",
      "alidating: 100%|██████████████████████████████████████████████████████████████████████| 20/20 [00:05<00:00,  3.84it/s]"
     ]
    },
    {
     "name": "stdout",
     "output_type": "stream",
     "text": [
      "Train Loss: 1.0293\n",
      "Train Accuracy: 0.5625\n",
      "Validation Accuracy: 0.6000\n",
      "New best model saved! Accuracy: 0.6000\n",
      "\n",
      "Epoch 2/2\n"
     ]
    },
    {
     "name": "stderr",
     "output_type": "stream",
     "text": [
      "\n",
      "\n",
      "alidating: 100%|██████████████████████████████████████████████████████████████████████| 20/20 [00:03<00:00,  5.00it/s]"
     ]
    },
    {
     "name": "stdout",
     "output_type": "stream",
     "text": [
      "Train Loss: 0.9615\n",
      "Train Accuracy: 0.5750\n",
      "Validation Accuracy: 0.6000\n",
      "\n",
      "Starting fine-tuning run 2/3\n",
      "Using device: cpu\n",
      "Initializing model and tokenizer...\n"
     ]
    },
    {
     "name": "stderr",
     "output_type": "stream",
     "text": [
      "Some weights of DistilBertForSequenceClassification were not initialized from the model checkpoint at distilbert-base-uncased and are newly initialized: ['classifier.bias', 'classifier.weight', 'pre_classifier.bias', 'pre_classifier.weight']\n",
      "You should probably TRAIN this model on a down-stream task to be able to use it for predictions and inference.\n"
     ]
    },
    {
     "name": "stdout",
     "output_type": "stream",
     "text": [
      "Preparing training data...\n",
      "Starting fine-tuning run 2...\n",
      "\n",
      "Epoch 1/2\n"
     ]
    },
    {
     "name": "stderr",
     "output_type": "stream",
     "text": [
      "\n",
      "\n",
      "alidating: 100%|██████████████████████████████████████████████████████████████████████| 20/20 [00:03<00:00,  5.09it/s]"
     ]
    },
    {
     "name": "stdout",
     "output_type": "stream",
     "text": [
      "Train Loss: 1.0086\n",
      "Train Accuracy: 0.5750\n",
      "Validation Accuracy: 0.6000\n",
      "New best model saved! Accuracy: 0.6000\n",
      "\n",
      "Epoch 2/2\n"
     ]
    },
    {
     "name": "stderr",
     "output_type": "stream",
     "text": [
      "\n",
      "\n",
      "alidating: 100%|██████████████████████████████████████████████████████████████████████| 20/20 [00:04<00:00,  4.88it/s]"
     ]
    },
    {
     "name": "stdout",
     "output_type": "stream",
     "text": [
      "Train Loss: 0.9449\n",
      "Train Accuracy: 0.5750\n",
      "Validation Accuracy: 0.6000\n",
      "\n",
      "Starting fine-tuning run 3/3\n",
      "Using device: cpu\n",
      "Initializing model and tokenizer...\n"
     ]
    },
    {
     "name": "stderr",
     "output_type": "stream",
     "text": [
      "Some weights of DistilBertForSequenceClassification were not initialized from the model checkpoint at distilbert-base-uncased and are newly initialized: ['classifier.bias', 'classifier.weight', 'pre_classifier.bias', 'pre_classifier.weight']\n",
      "You should probably TRAIN this model on a down-stream task to be able to use it for predictions and inference.\n"
     ]
    },
    {
     "name": "stdout",
     "output_type": "stream",
     "text": [
      "Preparing training data...\n",
      "Starting fine-tuning run 3...\n",
      "\n",
      "Epoch 1/2\n"
     ]
    },
    {
     "name": "stderr",
     "output_type": "stream",
     "text": [
      "\n",
      "\n",
      "alidating: 100%|██████████████████████████████████████████████████████████████████████| 20/20 [00:05<00:00,  3.80it/s]"
     ]
    },
    {
     "name": "stdout",
     "output_type": "stream",
     "text": [
      "Train Loss: 1.0226\n",
      "Train Accuracy: 0.5500\n",
      "Validation Accuracy: 0.6000\n",
      "New best model saved! Accuracy: 0.6000\n",
      "\n",
      "Epoch 2/2\n"
     ]
    },
    {
     "name": "stderr",
     "output_type": "stream",
     "text": [
      "\n",
      "\n",
      "alidating: 100%|██████████████████████████████████████████████████████████████████████| 20/20 [00:03<00:00,  5.20it/s]"
     ]
    },
    {
     "name": "stdout",
     "output_type": "stream",
     "text": [
      "Train Loss: 0.9505\n",
      "Train Accuracy: 0.5750\n",
      "Validation Accuracy: 0.6000\n"
     ]
    }
   ],
   "source": [
    "# Run multiple fine-tuning iterations\n",
    "os.makedirs('model_checkpoints', exist_ok=True)\n",
    "\n",
    "all_runs_stats = []\n",
    "NUM_RUNS = 3  # Number of times to run fine-tuning\n",
    "\n",
    "for run in range(NUM_RUNS):\n",
    "    print(f\"\\nStarting fine-tuning run {run+1}/{NUM_RUNS}\")\n",
    "    stats = fine_tune_model(run_num=run+1)\n",
    "    all_runs_stats.append(stats)"
   ]
  },
  {
   "cell_type": "markdown",
   "id": "7d01f81f-d7da-451a-92d7-e3ef6c10c2c9",
   "metadata": {},
   "source": [
    "# Visualisation"
   ]
  },
  {
   "cell_type": "code",
   "execution_count": 25,
   "id": "c6969e61-7ff8-4232-9e18-c48d105cae80",
   "metadata": {},
   "outputs": [
    {
     "data": {
      "image/png": "[encoded data removed]",
      "text/plain": [
       "<Figure size 1200x600 with 1 Axes>"
      ]
     },
     "metadata": {},
     "output_type": "display_data"
    },
    {
     "name": "stdout",
     "output_type": "stream",
     "text": [
      "\n",
      "Best Validation and Training Accuracies:\n",
      "Run 1 - Best Validation Accuracy: 0.6000, Best Training Accuracy: 0.5750\n",
      "Run 2 - Best Validation Accuracy: 0.6000, Best Training Accuracy: 0.5750\n",
      "Run 3 - Best Validation Accuracy: 0.6000, Best Training Accuracy: 0.5750\n"
     ]
    }
   ],
   "source": [
    "# Plot results from all runs\n",
    "plt.figure(figsize=(12, 6))\n",
    "\n",
    "for run, stats in enumerate(all_runs_stats):\n",
    "    epochs = [stat['epoch'] for stat in stats]\n",
    "    val_acc = [stat['val_accuracy'] for stat in stats]\n",
    "    train_acc = [stat['train_accuracy'] for stat in stats]\n",
    "    \n",
    "    # Plot validation accuracy\n",
    "    plt.plot(epochs, val_acc, marker='o', label=f'Validation Accuracy (Run {run+1})')\n",
    "    # Plot training accuracy\n",
    "    plt.plot(epochs, train_acc, marker='x', linestyle='--', label=f'Train Accuracy (Run {run+1})')\n",
    "\n",
    "plt.title('Training and Validation Accuracy Across Multiple Fine-tuning Runs')\n",
    "plt.xlabel('Epoch')\n",
    "plt.ylabel('Accuracy')\n",
    "plt.legend()\n",
    "plt.grid(True)\n",
    "plt.show()\n",
    "\n",
    "# Print best accuracy from each run\n",
    "print(\"\\nBest Validation and Training Accuracies:\")\n",
    "for run, stats in enumerate(all_runs_stats):\n",
    "    best_val_acc = max(stat['val_accuracy'] for stat in stats)\n",
    "    best_train_acc = max(stat['train_accuracy'] for stat in stats)\n",
    "    print(f\"Run {run+1} - Best Validation Accuracy: {best_val_acc:.4f}, Best Training Accuracy: {best_train_acc:.4f}\")\n"
   ]
  },
  {
   "cell_type": "code",
   "execution_count": 26,
   "id": "9cc8bbf4-ce6d-45d3-832b-f3f78114f179",
   "metadata": {},
   "outputs": [
    {
     "data": {
      "image/png": "[encoded data removed]",
      "text/plain": [
       "<Figure size 1200x600 with 1 Axes>"
      ]
     },
     "metadata": {},
     "output_type": "display_data"
    },
    {
     "name": "stdout",
     "output_type": "stream",
     "text": [
      "\n",
      "Best Validation Accuracies:\n",
      "Run 1: 0.6000\n",
      "Run 2: 0.6000\n",
      "Run 3: 0.6000\n"
     ]
    }
   ],
   "source": [
    "# Plot results from all runs\n",
    "plt.figure(figsize=(12, 6))\n",
    "\n",
    "for run, stats in enumerate(all_runs_stats):\n",
    "    epochs = [stat['epoch'] for stat in stats]\n",
    "    val_acc = [stat['val_accuracy'] for stat in stats]\n",
    "    plt.plot(epochs, val_acc, marker='o', label=f'Run {run+1}')\n",
    "\n",
    "plt.title('Validation Accuracy Across Multiple Fine-tuning Runs')\n",
    "plt.xlabel('Epoch')\n",
    "plt.ylabel('Accuracy')\n",
    "plt.legend()\n",
    "plt.grid(True)\n",
    "plt.show()\n",
    "\n",
    "# Print best accuracy from each run\n",
    "print(\"\\nBest Validation Accuracies:\")\n",
    "for run, stats in enumerate(all_runs_stats):\n",
    "    best_acc = max(stat['val_accuracy'] for stat in stats)\n",
    "    print(f\"Run {run+1}: {best_acc:.4f}\")"
   ]
  },
  {
   "cell_type": "code",
   "execution_count": 27,
   "id": "f22d0bfa-41d4-4258-856b-4b937ef5be30",
   "metadata": {},
   "outputs": [
    {
     "data": {
      "image/png": "[encoded data removed]",
      "text/plain": [
       "<Figure size 1000x600 with 1 Axes>"
      ]
     },
     "metadata": {},
     "output_type": "display_data"
    }
   ],
   "source": [
    "# Cell 8: Visualize results\n",
    "import matplotlib.pyplot as plt\n",
    "\n",
    "def plot_results(eval_results):\n",
    "    metrics = list(eval_results.keys())\n",
    "    values = list(eval_results.values())\n",
    "    \n",
    "    plt.figure(figsize=(10, 6))\n",
    "    plt.bar(metrics, values)\n",
    "    plt.title('LongRAG Evaluation Metrics')\n",
    "    plt.ylabel('Score')\n",
    "    plt.ylim(0, 1)\n",
    "    \n",
    "    for i, v in enumerate(values):\n",
    "        plt.text(i, v + 0.01, f'{v:.2f}', ha='center')\n",
    "    \n",
    "    plt.show()\n",
    "\n",
    "plot_results(eval_results)"
   ]
  },
  {
   "cell_type": "code",
   "execution_count": null,
   "id": "4467691f-77b0-4427-b11e-d5d4ea96ae41",
   "metadata": {},
   "outputs": [],
   "source": [
    "\n"
   ]
  },
  {
   "cell_type": "code",
   "execution_count": null,
   "id": "f39c1d27-89f0-4cfc-9477-817c66275d9b",
   "metadata": {},
   "outputs": [],
   "source": []
  },
  {
   "cell_type": "code",
   "execution_count": null,
   "id": "65ef1137-9e81-4dbf-b21c-e64f559923ff",
   "metadata": {},
   "outputs": [],
   "source": []
  }
 ],
 "metadata": {
  "kernelspec": {
   "display_name": "Python 3 (ipykernel)",
   "language": "python",
   "name": "python3"
  },
  "language_info": {
   "codemirror_mode": {
    "name": "ipython",
    "version": 3
   },
   "file_extension": ".py",
   "mimetype": "text/x-python",
   "name": "python",
   "nbconvert_exporter": "python",
   "pygments_lexer": "ipython3",
   "version": "3.12.5"
  }
 },
 "nbformat": 4,
 "nbformat_minor": 5
}
